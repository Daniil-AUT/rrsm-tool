{
 "cells": [
  {
   "cell_type": "markdown",
   "id": "f66ce7e0-3067-4f40-ba6d-1d7f62dd68a4",
   "metadata": {},
   "source": [
    "## **IMPORTANT**\n",
    "\n",
    "### Install these libraries before trying out the Classifier"
   ]
  },
  {
   "cell_type": "code",
   "execution_count": null,
   "id": "d4890d2f-6b92-4950-8319-be3b1cb1c573",
   "metadata": {
    "scrolled": true
   },
   "outputs": [],
   "source": [
    "!pip install joblib\n",
    "!pip install transformers\n",
    "!pip install torch"
   ]
  },
  {
   "cell_type": "markdown",
   "id": "5c31e3e0-f259-465e-b280-1f8c9dc9e7cf",
   "metadata": {},
   "source": [
    "## Import necessary libraries"
   ]
  },
  {
   "cell_type": "code",
   "execution_count": 55,
   "id": "ceff2360-6004-4e08-bde8-5ca1574dd454",
   "metadata": {},
   "outputs": [],
   "source": [
    "import pandas as pd\n",
    "import matplotlib.pyplot as plt\n",
    "import joblib\n",
    "import torch\n",
    "from transformers import BertTokenizer, BertModel"
   ]
  },
  {
   "cell_type": "markdown",
   "id": "d05b681e-0ed0-4ffc-a483-d74620cab329",
   "metadata": {},
   "source": [
    "## Load the existing models\n",
    "\n",
    "### 1: Loads pre-trained BERT tokenizer and model\n",
    "### 2: Loads pre-trained Support Vector Classification (SVC) model\n"
   ]
  },
  {
   "cell_type": "code",
   "execution_count": 41,
   "id": "37705fca-29f0-4279-ab54-e50298d3f2d2",
   "metadata": {},
   "outputs": [],
   "source": [
    "# Load the BERT model and tokenizer\n",
    "tokenizer = BertTokenizer.from_pretrained('./models/saved_bert_model')\n",
    "model = BertModel.from_pretrained('./models/saved_bert_model')\n",
    "\n",
    "svcModel = joblib.load('svc_model.joblib')"
   ]
  },
  {
   "cell_type": "markdown",
   "id": "f4068db2-e12d-4d2b-ba39-992a43fc222a",
   "metadata": {},
   "source": [
    "## Converts input text into a numeric representation based on trained BERT model\n",
    "\n",
    "* Uses tokenizer to convert the input texts into token IDs with padding and truncation to have uniform input size.\n",
    "\n",
    "* Then it passes the tokenized inputs to the model to get BERT's output embeddings.\n",
    "\n",
    "* Then it calculates the mean of the last hidden state across tokens for each input text to get a fixed-size representation, and converts the result to a NumPy array."
   ]
  },
  {
   "cell_type": "code",
   "execution_count": 44,
   "id": "62d32b8b-d46f-4322-a960-7a38ad555f19",
   "metadata": {},
   "outputs": [],
   "source": [
    "# Define function to get BERT embeddings\n",
    "def get_bert_embeddings(texts):\n",
    "    inputs = tokenizer(texts, return_tensors='pt', padding=True, truncation=True)\n",
    "    with torch.no_grad():\n",
    "        outputs = model(**inputs)\n",
    "    return outputs.last_hidden_state.mean(dim=1).cpu().numpy()"
   ]
  },
  {
   "cell_type": "markdown",
   "id": "e9d0eaf7-c19b-4b61-8742-928190eee9b1",
   "metadata": {},
   "source": [
    "# **<b>TEST MODEL HERE</b>**"
   ]
  },
  {
   "cell_type": "code",
   "execution_count": 50,
   "id": "f879b914-6aed-403b-8ed7-acda298f7824",
   "metadata": {},
   "outputs": [
    {
     "name": "stdout",
     "output_type": "stream",
     "text": [
      "Enter user stories (type 'done' when finished):\n"
     ]
    },
    {
     "name": "stdin",
     "output_type": "stream",
     "text": [
      "User Story:  lol\n",
      "User Story:  done\n"
     ]
    },
    {
     "name": "stdout",
     "output_type": "stream",
     "text": [
      "User Story: lol\n",
      "Prediction: 0\n",
      "\n"
     ]
    }
   ],
   "source": [
    "# Function to predict ambiguity\n",
    "def predict_ambiguity(user_stories):\n",
    "    X_new = get_bert_embeddings(user_stories)\n",
    "    predictions = svcModel.predict(X_new)\n",
    "    return predictions\n",
    "\n",
    "# CLI input and prediction\n",
    "print(\"Enter user stories (type 'done' when finished):\")\n",
    "user_stories = []\n",
    "while True:\n",
    "    story = input(\"User Story: \")\n",
    "    if story.lower() == 'done':\n",
    "        break\n",
    "    user_stories.append(story)\n",
    "\n",
    "predictions = predict_ambiguity(user_stories)\n",
    "for story, prediction in zip(user_stories, predictions):\n",
    "    print(f\"User Story: {story}\\nPrediction: {prediction}\\n\")"
   ]
  },
  {
   "cell_type": "markdown",
   "id": "604a2d3d-ee6b-49c4-8dd5-8aa7d91c3500",
   "metadata": {},
   "source": [
    "## <b>See how many times the model predicted ambiguity in data (1700+ records)</b>"
   ]
  },
  {
   "cell_type": "code",
   "execution_count": 59,
   "id": "5ad58ac8-d966-462d-bfdc-b22d8d732f9d",
   "metadata": {},
   "outputs": [
    {
     "data": {
      "image/png": "[encoded data removed]",
      "text/plain": [
       "<Figure size 800x600 with 1 Axes>"
      ]
     },
     "metadata": {},
     "output_type": "display_data"
    },
    {
     "name": "stdout",
     "output_type": "stream",
     "text": [
      "Unambiguous Criteria\n",
      "1    1289\n",
      "0     391\n",
      "Name: count, dtype: int64\n"
     ]
    }
   ],
   "source": [
    "# Load the CSV file\n",
    "df = pd.read_csv('user_stories_with_predictions.csv')\n",
    "\n",
    "# Get the class distribution\n",
    "class_distribution = df['Unambiguous Criteria'].value_counts()\n",
    "\n",
    "# Plot the class distribution\n",
    "plt.figure(figsize=(8, 6))\n",
    "class_distribution.plot(kind='bar', color='skyblue')\n",
    "plt.title('Class Distribution of Unambiguous Criteria')\n",
    "plt.xlabel('Class')\n",
    "plt.ylabel('Frequency')\n",
    "plt.xticks(rotation=0)\n",
    "plt.show()\n",
    "\n",
    "print(df['Unambiguous Criteria'].value_counts())"
   ]
  },
  {
   "cell_type": "code",
   "execution_count": null,
   "id": "8edf41a5-da37-45da-bef9-06c8a41bae2b",
   "metadata": {},
   "outputs": [],
   "source": []
  }
 ],
 "metadata": {
  "kernelspec": {
   "display_name": "Python 3 (ipykernel)",
   "language": "python",
   "name": "python3"
  },
  "language_info": {
   "codemirror_mode": {
    "name": "ipython",
    "version": 3
   },
   "file_extension": ".py",
   "mimetype": "text/x-python",
   "name": "python",
   "nbconvert_exporter": "python",
   "pygments_lexer": "ipython3",
   "version": "3.12.4"
  }
 },
 "nbformat": 4,
 "nbformat_minor": 5
}
